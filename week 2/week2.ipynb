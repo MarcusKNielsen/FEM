{
 "cells": [
  {
   "cell_type": "markdown",
   "metadata": {},
   "source": [
    "# 2.1\n",
    "a) Function constructing VX and VY"
   ]
  },
  {
   "cell_type": "code",
   "execution_count": 1,
   "metadata": {},
   "outputs": [],
   "source": [
    "import numpy as np\n",
    "def xy(x0, y0, L1, L2, noelms1, noelms2):\n",
    "    lx = L1 / noelms1\n",
    "    ly = L2 / noelms2\n",
    "\n",
    "    VX = np.repeat([x0 + i * lx for i in range(noelms1 + 1)], noelms2 + 1)\n",
    "    VY = [y0 + j * ly for j in range(noelms2,-1,-1)] * (noelms1 + 1)\n",
    "\n",
    "    return np.array(VX), np.array(VY)"
   ]
  },
  {
   "cell_type": "code",
   "execution_count": 2,
   "metadata": {},
   "outputs": [
    {
     "name": "stdout",
     "output_type": "stream",
     "text": [
      "[-2.5 -2.5 -2.5 -2.5 -0.6 -0.6 -0.6 -0.6  1.3  1.3  1.3  1.3  3.2  3.2\n",
      "  3.2  3.2  5.1  5.1  5.1  5.1]\n",
      "[ 1.1        -0.86666667 -2.83333333 -4.8         1.1        -0.86666667\n",
      " -2.83333333 -4.8         1.1        -0.86666667 -2.83333333 -4.8\n",
      "  1.1        -0.86666667 -2.83333333 -4.8         1.1        -0.86666667\n",
      " -2.83333333 -4.8       ]\n",
      "20\n",
      "20\n"
     ]
    }
   ],
   "source": [
    "\n",
    "(x0, y0) = (-2.5,-4.8)\n",
    "L1 = 7.6\n",
    "L2 = 5.9\n",
    "noelms1 = 4\n",
    "noelms2 = 3\n",
    "\n",
    "\n",
    "VX,VY = xy(x0,y0,L1,L2,noelms1,noelms2)\n",
    "\n",
    "print(VX)\n",
    "print(VY)\n",
    "\n",
    "print(len(VX))\n",
    "print(len(VY))\n"
   ]
  },
  {
   "cell_type": "markdown",
   "metadata": {},
   "source": [
    "b) Function constructing EToV"
   ]
  },
  {
   "cell_type": "code",
   "execution_count": 4,
   "metadata": {},
   "outputs": [
    {
     "data": {
      "text/plain": [
       "array([[ 4,  0,  5],\n",
       "       [ 1,  5,  0],\n",
       "       [ 5,  1,  6],\n",
       "       [ 2,  6,  1],\n",
       "       [ 6,  2,  7],\n",
       "       [ 3,  7,  2],\n",
       "       [ 8,  4,  9],\n",
       "       [ 5,  9,  4],\n",
       "       [ 9,  5, 10],\n",
       "       [ 6, 10,  5],\n",
       "       [10,  6, 11],\n",
       "       [ 7, 11,  6],\n",
       "       [12,  8, 13],\n",
       "       [ 9, 13,  8],\n",
       "       [13,  9, 14],\n",
       "       [10, 14,  9],\n",
       "       [14, 10, 15],\n",
       "       [11, 15, 10],\n",
       "       [16, 12, 17],\n",
       "       [13, 17, 12],\n",
       "       [17, 13, 18],\n",
       "       [14, 18, 13],\n",
       "       [18, 14, 19],\n",
       "       [15, 19, 14]])"
      ]
     },
     "execution_count": 4,
     "metadata": {},
     "output_type": "execute_result"
    }
   ],
   "source": [
    "def conelmtab(noelms1,noelms2):\n",
    "    EToV = []\n",
    "    for j in range(noelms1):\n",
    "        for i in range(noelms2):\n",
    "            EToV.append([i+noelms2+1+(noelms2+1)*j,i+(noelms2+1)*j, i+noelms2+2+(noelms2+1)*j])\n",
    "            EToV.append([i+1+(noelms2+1)*j,i+noelms2+2+(noelms2+1)*j,i+(noelms2+1)*j])\n",
    "\n",
    "    return np.array(EToV)\n",
    "\n",
    "EToV = conelmtab(4,3)\n",
    "\n",
    "EToV"
   ]
  },
  {
   "cell_type": "markdown",
   "metadata": {},
   "source": [
    "# 2.2"
   ]
  },
  {
   "cell_type": "markdown",
   "metadata": {},
   "source": [
    "a) basis function."
   ]
  },
  {
   "cell_type": "code",
   "execution_count": 5,
   "metadata": {},
   "outputs": [
    {
     "name": "stdout",
     "output_type": "stream",
     "text": [
      "1.8683333333333327\n",
      "[[-6.56333333 -1.96666667 -1.9       ]\n",
      " [ 4.91666667  1.96666667  0.        ]\n",
      " [ 5.38333333  0.          1.9       ]]\n"
     ]
    }
   ],
   "source": [
    "from matplotlib import pyplot as plt\n",
    "\n",
    "def basfun(n,VX,VY,EToV):\n",
    "    idx1 = EToV[n,0]\n",
    "    idx2 = EToV[n,1]    \n",
    "    idx3 = EToV[n,2]\n",
    "\n",
    "    x1 = VX[idx1]\n",
    "    x2 = VX[idx2]\n",
    "    x3 = VX[idx3]\n",
    "\n",
    "    y1 = VY[idx1]\n",
    "    y2 = VY[idx2]\n",
    "    y3 = VY[idx3]\n",
    "\n",
    "    delta = 1/2*(x2*y3 - x3*y2 - x1*y3 + x3*y1 + x1*y2 - x2*y1)\n",
    "\n",
    "    abc = np.zeros((3,3))\n",
    "\n",
    "    abc[0,0] = x2*y3 - x3*y2\n",
    "    abc[0,1] = y2 - y3\n",
    "    abc[0,2] = x3 - x2\n",
    "\n",
    "    abc[1,0] = x3*y1 - x1*y3\n",
    "    abc[1,1] = y3 - y1\n",
    "    abc[1,2] = x1 - x3\n",
    "\n",
    "    abc[2,0] = x1*y2 - x2*y1\n",
    "    abc[2,1] = y1 - y2\n",
    "    abc[2,2] = x2 - x1\n",
    "\n",
    "\n",
    "    return delta, abc\n",
    "\n",
    "\n",
    "    # plt.plot(VX,VY,'o')\n",
    "    # plt.plot([x1,x2,x3],[y1,y2,y3],'o')\n",
    "\n",
    "\n",
    "(x0, y0) = (-2.5,-4.8)\n",
    "L1 = 7.6\n",
    "L2 = 5.9\n",
    "noelms1 = 4\n",
    "noelms2 = 3\n",
    "\n",
    "VX,VY = xy(x0,y0,L1,L2,noelms1,noelms2)\n",
    "EToV = conelmtab(noelms1,noelms2)\n",
    "\n",
    "delta, abc = basfun(3,VX,VY,EToV)\n",
    "\n",
    "print(delta)\n",
    "print(abc)"
   ]
  },
  {
   "cell_type": "markdown",
   "metadata": {},
   "source": [
    "b) normal vector component function"
   ]
  },
  {
   "cell_type": "code",
   "execution_count": 6,
   "metadata": {},
   "outputs": [
    {
     "data": {
      "text/plain": [
       "array([0.71919139, 0.69481202])"
      ]
     },
     "execution_count": 6,
     "metadata": {},
     "output_type": "execute_result"
    }
   ],
   "source": [
    "def outernormal(n,k,VX,VY,EToV):\n",
    "    idx1 = EToV[n,(k % 3)]\n",
    "    idx2 = EToV[n,((k + 1) % 3)]\n",
    "\n",
    "    dx = VX[idx2] - VX[idx1]\n",
    "    dy = VY[idx2] - VY[idx1]\n",
    "\n",
    "    n = np.array([-dy,dx])/np.sqrt(dx*dx+dy*dy)\n",
    "\n",
    "    return n\n",
    "\n",
    "outernormal(8,1,VX,VY,EToV)"
   ]
  },
  {
   "cell_type": "markdown",
   "metadata": {},
   "source": [
    "# 2.3\n",
    "a) assembly process"
   ]
  },
  {
   "cell_type": "code",
   "execution_count": 26,
   "metadata": {},
   "outputs": [],
   "source": [
    "import scipy.sparse as sp\n",
    "\n",
    "def assembly(VX, VY, EToV, lam1,lam2, qt):\n",
    "    N = len(EToV[:,1])\n",
    "    M = len(VX)\n",
    "\n",
    "    nnzmax = 9*N\n",
    "    ii = np.zeros(nnzmax, dtype=int)\n",
    "    jj = np.zeros(nnzmax, dtype=int)\n",
    "    ss = np.zeros(nnzmax)\n",
    "    b = np.zeros(M)\n",
    "    count = 0\n",
    "    \n",
    "    for n in range(N):\n",
    "        delta, abc = basfun(n,VX,VY,EToV)\n",
    "\n",
    "        i = EToV[n,0]\n",
    "        j = EToV[n,1]    \n",
    "        k = EToV[n,2]\n",
    "            \n",
    "        triplet = [i,j,k]\n",
    "\n",
    "        x1 = VX[i]\n",
    "        x2 = VX[j]\n",
    "        x3 = VX[k]\n",
    "\n",
    "        y1 = VY[i]\n",
    "        y2 = VY[j]\n",
    "        y3 = VY[k]\n",
    "        \n",
    "        for r in range(3):\n",
    "        \n",
    "            qtilde = 1/3*(qt(x1,y1)+qt(x2,y2)+qt(x3,y3))\n",
    "            b[triplet[r]] += (np.abs(delta)/3)*qtilde\n",
    "\n",
    "            for s in range(3):\n",
    "                \n",
    "                k_rs = 1/(4*np.abs(delta))*(lam1*abc[r,1]*abc[s,1]+lam2*abc[r,2]*abc[s,2])\n",
    "                \n",
    "                ii[count] = triplet[r]\n",
    "                jj[count] = triplet[s]\n",
    "                ss[count] = k_rs\n",
    "                count += 1\n",
    "\n",
    "\n",
    "    A = sp.csr_matrix((ss[:count], (ii[:count], jj[:count])), shape=(M, M))\n",
    "    return A,b"
   ]
  },
  {
   "cell_type": "code",
   "execution_count": 27,
   "metadata": {},
   "outputs": [],
   "source": [
    "(x0, y0) = (0,0) \n",
    "L1 = 1\n",
    "L2 = 1\n",
    "noelms1 = 4\n",
    "noelms2 = 3\n",
    "q = lambda x,y: 0\n",
    "lam1 = 1\n",
    "lam2 = 1\n",
    "\n",
    "# (x0, y0) = (-2.5, -4.8) \n",
    "# L1 = 7.6\n",
    "# L2 = 5.9\n",
    "# noelms1 = 4\n",
    "# noelms2 = 3\n",
    "# q = lambda x,y: -6*x+2*y-2\n",
    "# lam1 = 1\n",
    "# lam2 = 1\n",
    "\n",
    "VX,VY = xy(x0,y0,L1,L2,noelms1,noelms2)\n",
    "EToV = conelmtab(noelms1,noelms2)\n",
    "\n",
    "A,b = assembly(VX, VY, EToV, lam1,lam2, q)\n"
   ]
  },
  {
   "cell_type": "code",
   "execution_count": 10,
   "metadata": {},
   "outputs": [
    {
     "data": {
      "text/plain": [
       "array([-0.66666667, -1.33333333, -1.33333333, -0.66666667, -0.66666667,\n",
       "       -1.33333333, -1.33333333, -0.66666667, -0.66666667, -1.33333333,\n",
       "       -1.33333333, -0.66666667, -0.66666667, -1.33333333, -1.33333333,\n",
       "       -0.66666667])"
      ]
     },
     "execution_count": 10,
     "metadata": {},
     "output_type": "execute_result"
    }
   ],
   "source": [
    "np.diag(A.todense(), k=-4)"
   ]
  },
  {
   "cell_type": "markdown",
   "metadata": {},
   "source": [
    "# 2.4"
   ]
  },
  {
   "cell_type": "code",
   "execution_count": 28,
   "metadata": {},
   "outputs": [],
   "source": [
    "def dirbc(bnodes, f, A, b):\n",
    "    M = len(b)\n",
    "    for n,i in enumerate(bnodes):\n",
    "        A[i,i] = 1\n",
    "        b[i] = f[n]\n",
    "\n",
    "        for j in range(M):\n",
    "            if j != i:\n",
    "                A[i,j] = 0\n",
    "                if j not in bnodes:\n",
    "                    b[j] -= A[j,i]*f[n]\n",
    "                    A[j,i] = 0\n",
    "    \n",
    "    return A,b"
   ]
  },
  {
   "cell_type": "code",
   "execution_count": 29,
   "metadata": {},
   "outputs": [],
   "source": [
    "def dirbc(bnodes, f, A, b):\n",
    "    M = len(b)\n",
    "    for n,i in enumerate(bnodes):\n",
    "        A[i,i] = 1\n",
    "        b[i] = f[n]\n",
    "\n",
    "        for j in range(M):\n",
    "            if j != i and A[i,j] != 0:\n",
    "                A[i,j] = 0\n",
    "                if j not in bnodes:\n",
    "                    b[j] -= A[j,i]*f[n]\n",
    "                    A[j,i] = 0\n",
    "    \n",
    "    return A,b"
   ]
  },
  {
   "cell_type": "code",
   "execution_count": 30,
   "metadata": {},
   "outputs": [],
   "source": [
    "def find_bnodes(noelms1,noelms2):\n",
    "    bnodes = np.arange(noelms2+1)\n",
    "    for j in range(1,noelms1):\n",
    "        bnodes = np.append(bnodes, j*(noelms2+1))\n",
    "        bnodes = np.append(bnodes, j*(noelms2+1) + noelms2)\n",
    "\n",
    "    bnodes = np.append(bnodes, np.arange((noelms2+1)*noelms1, (noelms2+1)*(noelms1+1)))\n",
    "\n",
    "    return bnodes"
   ]
  },
  {
   "cell_type": "code",
   "execution_count": 34,
   "metadata": {},
   "outputs": [
    {
     "name": "stdout",
     "output_type": "stream",
     "text": [
      "[-22.29       -10.45722222   9.11111111  36.415       -0.402\n",
      "  23.552        0.548       32.349       21.714      103.96\n",
      " 104.25       154.94411111 213.37377778 279.539     ]\n",
      "[-22.29       -10.45722222   9.11111111  36.415       -0.402\n",
      "  23.552        0.548       32.349       21.714      103.96\n",
      " 104.25       154.94411111 213.37377778 279.539     ]\n"
     ]
    }
   ],
   "source": [
    "# (x0, y0) = (0,0) \n",
    "# L1 = 1\n",
    "# L2 = 1\n",
    "# noelms1 = 4\n",
    "# noelms2 = 3\n",
    "# q = lambda x,y: 0\n",
    "# lam1 = 1\n",
    "# lam2 = 1\n",
    "# bnodes = find_bnodes(noelms1,noelms2)\n",
    "# f = np.ones((noelms1+1)*(noelms2+1))\n",
    "\n",
    "\n",
    "(x0, y0) = (-2.5, -4.8) \n",
    "L1 = 7.6\n",
    "L2 = 5.9\n",
    "noelms1 = 4\n",
    "noelms2 = 3\n",
    "q = lambda x,y: -6*x+2*y-2\n",
    "lam1 = 1\n",
    "lam2 = 1\n",
    "bnodes = find_bnodes(noelms1,noelms2)\n",
    "\n",
    "\n",
    "VX,VY = xy(x0,y0,L1,L2,noelms1,noelms2)\n",
    "VX = np.array(VX)\n",
    "VY = np.array(VY)\n",
    "\n",
    "f = lambda x,y: x**3 - x**2*y + y**2 - 1\n",
    "\n",
    "EToV = conelmtab(noelms1,noelms2)\n",
    "A,b = assembly(VX, VY, EToV, lam1,lam2, q)\n",
    "\n",
    "A, b = dirbc(bnodes, f(VX[bnodes],VY[bnodes]), A, b)"
   ]
  },
  {
   "cell_type": "markdown",
   "metadata": {},
   "source": [
    "# 2.5"
   ]
  },
  {
   "cell_type": "code",
   "execution_count": 38,
   "metadata": {},
   "outputs": [],
   "source": [
    "def BVP2D(x0,y0,L1,L2,noelms1,noelms2,q,lam1,lam2,f):\n",
    "    VX,VY = xy(x0,y0,L1,L2,noelms1,noelms2)\n",
    "    EToV = conelmtab(noelms1,noelms2)\n",
    "    bnodes = find_bnodes(noelms1,noelms2)\n",
    "\n",
    "    A,b = assembly(VX, VY, EToV, lam1,lam2, q)\n",
    "    farr = f(VX[bnodes], VY[bnodes])\n",
    "    A, b = dirbc(bnodes, farr, A, b)\n",
    "\n",
    "    u = sp.linalg.spsolve(A,b)\n",
    "\n",
    "    return u, VX, VY"
   ]
  },
  {
   "cell_type": "markdown",
   "metadata": {},
   "source": [
    "*Test case 1*\n",
    "\n",
    "For given $U(x,y) = x^3-x^2y+y^2-1$ we find\n",
    "\\begin{align}\n",
    "u_{xx} = 6x-2y \\\\\n",
    "u_{yy} = 2\n",
    "\\end{align}\n",
    "Which yields for $\\tilde{q}(x,y) = -u_{xx} - u_{yy} = -6x + 2y -2$\n",
    "\n",
    "For $f(x,y)$ we obtain $f(x,y) = x^3-x^2y+y^2-1$ for $(x,y) \\in \\Gamma $\n",
    "\n",
    "*Test case 2*\n",
    "\n",
    "For given $U(x,y) = x^2y^2$ we find\n",
    "\\begin{align}\n",
    "u_{xx} = 2y^2 \\\\\n",
    "u_{yy} = 2x^2\n",
    "\\end{align}\n",
    "Which yields for $\\tilde{q}(x,y) = -u_{xx} - u_{yy} = -2(y^2 + x^2)$\n",
    "\n",
    "For $f(x,y)$ we obtain $f(x,y) = x^2y^2$ for $(x,y) \\in \\Gamma $"
   ]
  },
  {
   "cell_type": "code",
   "execution_count": null,
   "metadata": {},
   "outputs": [],
   "source": [
    "# 3d Plot of test case\n",
    "\n",
    "(x0, y0) = (-2.5, -4.8) \n",
    "L1 = 7.6\n",
    "L2 = 5.9\n",
    "noelms1 = 20\n",
    "noelms2 = 20\n",
    "lam1 = 1\n",
    "lam2 = 1\n",
    "q = lambda x,y: -6*x+2*y-2\n",
    "f = lambda x,y: x**3 - x**2*y + y**2 - 1\n",
    "\n",
    "u, VX, VY = BVP2D(x0,y0,L1,L2,noelms1,noelms2,q,lam1,lam2,f)\n",
    "\n",
    "x = VX\n",
    "y = VY\n",
    "\n",
    "#%%\n",
    "\n",
    "import matplotlib.pyplot as plt\n",
    "from mpl_toolkits.mplot3d import Axes3D\n",
    "\n",
    "# Getting the unique values and sorting them\n",
    "unique_x = np.unique(x)\n",
    "unique_y = np.unique(y)\n",
    "\n",
    "# Reshaping u to match the grid\n",
    "U = u.reshape(len(unique_y), len(unique_x))\n",
    "\n",
    "#U_true = lambda x,y: x**3 - x**2 * y + y**2 - 1\n",
    "\n",
    "# Creating the meshgrid\n",
    "X, Y = np.meshgrid(unique_x, unique_y)\n",
    "\n",
    "# Create a figure and a 3D axis\n",
    "fig = plt.figure()\n",
    "ax = fig.add_subplot(111, projection='3d')\n",
    "\n",
    "# Surface plot\n",
    "surf = ax.plot_surface(X, Y, U, cmap='viridis')\n",
    "\n",
    "# Labeling\n",
    "ax.set_xlabel('X axis')\n",
    "ax.set_ylabel('Y axis')\n",
    "ax.set_zlabel('U axis')\n",
    "\n",
    "# Show the plot\n",
    "plt.show()"
   ]
  },
  {
   "cell_type": "code",
   "execution_count": 85,
   "metadata": {},
   "outputs": [
    {
     "name": "stdout",
     "output_type": "stream",
     "text": [
      "1.2789769243681803e-13\n"
     ]
    }
   ],
   "source": [
    "#Test case 1\n",
    "(x0, y0) = (-2.5, -4.8) \n",
    "L1 = 7.6\n",
    "L2 = 5.9\n",
    "noelms1 = 10\n",
    "noelms2 = 10\n",
    "lam1 = 1\n",
    "lam2 = 1\n",
    "q = lambda x,y: -6*x+2*y-2\n",
    "f = lambda x,y: x**3 - x**2*y + y**2 - 1\n",
    "\n",
    "u, VX, VY = BVP2D(x0,y0,L1,L2,noelms1,noelms2,q,lam1,lam2,f)\n",
    "\n",
    "u_exact = f(VX,VY)\n",
    "\n",
    "E = np.linalg.norm(u-u_exact, np.inf)\n",
    "\n",
    "print(E)\n"
   ]
  },
  {
   "cell_type": "code",
   "execution_count": null,
   "metadata": {},
   "outputs": [],
   "source": [
    "H = np.logspace(0,-1,10)\n",
    "error = np.zeros(len(H))\n",
    "\n",
    "(x0, y0) = (-2.5, -4.8) \n",
    "L1 = 7.6\n",
    "L2 = 5.9\n",
    "# noelms1 = 4\n",
    "# noelms2 = 3\n",
    "lam1 = 1\n",
    "lam2 = 1\n",
    "q = lambda x,y: -6*x+2*y-2\n",
    "f = lambda x,y: x**3 - x**2*y + y**2 - 1\n",
    "\n",
    "for i,h in enumerate(H):\n",
    "    noelms1 = int(L1/h)\n",
    "    noelms2 = int(L2/h)\n",
    "\n",
    "    u, VX, VY = BVP2D(x0,y0,L1,L2,noelms1,noelms2,q,lam1,lam2,f)\n",
    "    u_exact = f(VX,VY)\n",
    "    error[i] = np.linalg.norm(u-u_exact, np.inf)"
   ]
  },
  {
   "cell_type": "code",
   "execution_count": null,
   "metadata": {},
   "outputs": [],
   "source": [
    "from matplotlib import pyplot as plt\n",
    "a,b = np.polyfit(np.log(H), np.log(error), 1)\n",
    "plt.loglog(H,error,'r--')"
   ]
  },
  {
   "cell_type": "code",
   "execution_count": 87,
   "metadata": {},
   "outputs": [
    {
     "name": "stdout",
     "output_type": "stream",
     "text": [
      "17.923618905618945\n"
     ]
    }
   ],
   "source": [
    "(x0, y0) = (-2.5, -4.8) \n",
    "L1 = 7.6\n",
    "L2 = 5.9\n",
    "noelms1 = 4\n",
    "noelms2 = 3\n",
    "lam1 = 1\n",
    "lam2 = 1\n",
    "q = lambda x,y: -2*(x**2+y**2)\n",
    "f = lambda x,y: x**2*y**2\n",
    "\n",
    "u, VX, VY = BVP2D(x0,y0,L1,L2,noelms1,noelms2,q,lam1,lam2,f)\n",
    "\n",
    "u_exact = f(VX,VY)\n",
    "\n",
    "E = np.linalg.norm(u-u_exact, np.inf)\n",
    "\n",
    "print(E)\n"
   ]
  },
  {
   "cell_type": "code",
   "execution_count": 133,
   "metadata": {},
   "outputs": [],
   "source": [
    "P = list(range(2,7))\n",
    "error = np.zeros(len(P))\n",
    "\n",
    "for i,p in enumerate(P):\n",
    "    noelms1 = 2**p\n",
    "    noelms2 = 2**p\n",
    "\n",
    "    u, VX, VY = BVP2D(x0,y0,L1,L2,noelms1,noelms2,q,lam1,lam2,f)\n",
    "    u_exact = f(VX,VY)\n",
    "    error[i] = np.linalg.norm(u-u_exact, np.inf)\n"
   ]
  },
  {
   "cell_type": "code",
   "execution_count": 134,
   "metadata": {},
   "outputs": [],
   "source": [
    "DOF = [(2**p+1)**2 for p in P]"
   ]
  },
  {
   "attachments": {},
   "cell_type": "markdown",
   "metadata": {},
   "source": [
    "To validate our solver we find an analytical expression for the error\n",
    "\\begin{align*}\n",
    "\\text{error} = C h^2\n",
    "\\end{align*}\n",
    "then\n",
    "\\begin{align*}\n",
    "\\log(\\text{error}) = \\log(C) + 2 \\log(h)\n",
    "\\end{align*}\n",
    "Let $N$ be the number of elements in the x and y direction. Then the maximal $h$ is given by:\n",
    "\\begin{align*}\n",
    "\\left(\\frac{1}{N}\\right)^2 + \\left(\\frac{1}{N}\\right)^2 = h^2 \\ \\Rightarrow \\ h = \\frac{\\sqrt{2}}{N}\n",
    "\\end{align*}\n",
    "Letting $N=2^p$ with p then\n",
    "\\begin{align*}\n",
    "\\log(\\text{error}) \n",
    "&= \\log(C) + 2 \\log(h) \\\\\n",
    "&= \\log(C) + 2 \\log(\\frac{\\sqrt{2}}{2^p}) \\\\\n",
    "&= \\log(C) + 2 \\log(2) - 2 \\log(2)p\n",
    "\\end{align*}\n",
    "with $K =  \\log(C) + 2 \\log(2)$ which is a constant we expect the error to follow the line\n",
    "\\begin{align*}\n",
    "\\log(\\text{error}) = K - 2 \\log(2)p\n",
    "\\end{align*}\n",
    "a plot of this can be seen below"
   ]
  },
  {
   "cell_type": "code",
   "execution_count": null,
   "metadata": {},
   "outputs": [
    {
     "ename": "",
     "evalue": "",
     "output_type": "error",
     "traceback": [
      "\u001b[1;31mRunning cells with '/bin/python3' requires the ipykernel package.\n",
      "\u001b[1;31mRun the following command to install 'ipykernel' into the Python environment. \n",
      "\u001b[1;31mCommand: '/bin/python3 -m pip install ipykernel -U --user --force-reinstall'"
     ]
    }
   ],
   "source": [
    "#plt.loglog(DOF,error,'r--')\n",
    "#plt.semilogy(P,error)\n",
    "plt.plot(P,np.log(error), label='Empirical')\n",
    "plt.plot(P,-2*np.log(2)*np.array(P),'--', label='Theoretical')\n",
    "plt.title(r\"Plot of $\\log(\\text{error})$ vs p\")\n",
    "plt.legend()\n",
    "plt.show()"
   ]
  },
  {
   "cell_type": "markdown",
   "metadata": {},
   "source": [
    "# 2.6"
   ]
  },
  {
   "cell_type": "code",
   "execution_count": 189,
   "metadata": {},
   "outputs": [],
   "source": [
    "def find_bedges(bnodes, noelms2):\n",
    "    bedges = []\n",
    "    for i in range(noelms2):\n",
    "        bedges.append([bnodes[i], bnodes[i+1]])\n",
    "    \n",
    "    bedges.append([bnodes[0], bnodes[noelms2+1]])\n",
    "\n",
    "    for i in range(noelms2, len(bnodes)-noelms2-2):\n",
    "        bedges.append([bnodes[i], bnodes[i+2]])\n",
    "\n",
    "    for i in range(len(bnodes)-noelms2-1,len(bnodes)-1):\n",
    "        bedges.append([bnodes[i], bnodes[i+1]])\n",
    "\n",
    "    return bedges"
   ]
  },
  {
   "cell_type": "code",
   "execution_count": 188,
   "metadata": {},
   "outputs": [
    {
     "data": {
      "text/plain": [
       "(array([ 0,  1,  2,  3,  5,  6,  8,  9, 11, 12, 13, 14]),\n",
       " [[0, 1],\n",
       "  [1, 2],\n",
       "  [0, 3],\n",
       "  [2, 5],\n",
       "  [3, 6],\n",
       "  [5, 8],\n",
       "  [6, 9],\n",
       "  [8, 11],\n",
       "  [9, 12],\n",
       "  [12, 13],\n",
       "  [13, 14]])"
      ]
     },
     "execution_count": 188,
     "metadata": {},
     "output_type": "execute_result"
    }
   ],
   "source": [
    "noelms1 = 4\n",
    "noelms2 = 2\n",
    "bnodes = find_bnodes(noelms1,noelms2)\n",
    "\n",
    "find_bedges(bnodes,noelms2)"
   ]
  },
  {
   "cell_type": "code",
   "execution_count": 7,
   "metadata": {},
   "outputs": [],
   "source": [
    "def ConstructBeds(VX,VY,EToV):\n",
    "\n",
    "    beds = []\n",
    "\n",
    "    for n in range(len(EToV[:,1])):\n",
    "        for k in range(3):\n",
    "            (i,j) = (EToV[n,(k,((k+1) % 3))])\n",
    "\n",
    "            mid = np.array([(VX[i]+VX[j])/2, (VY[i]+VY[j])/2])\n",
    "\n",
    "            if mid[0] <= x0 or mid[0]  >= x0 + L1 or mid[1] <= y0 or mid[1] >= y0 + L2:\n",
    "                beds.append([n,i])\n",
    "\n",
    "    return np.array(beds)"
   ]
  },
  {
   "cell_type": "code",
   "execution_count": 8,
   "metadata": {},
   "outputs": [
    {
     "data": {
      "text/plain": [
       "array([[ 0,  4],\n",
       "       [ 1,  0],\n",
       "       [ 3,  1],\n",
       "       [ 5,  3],\n",
       "       [ 5,  2],\n",
       "       [ 6,  8],\n",
       "       [11,  7],\n",
       "       [12, 12],\n",
       "       [17, 11],\n",
       "       [18, 16],\n",
       "       [18, 17],\n",
       "       [20, 18],\n",
       "       [22, 19],\n",
       "       [23, 15]])"
      ]
     },
     "execution_count": 8,
     "metadata": {},
     "output_type": "execute_result"
    }
   ],
   "source": [
    "(x0, y0) = (0,0)\n",
    "L1 = 1\n",
    "L2 = 1\n",
    "noelms1 = 4\n",
    "noelms2 = 3\n",
    "\n",
    "\n",
    "VX,VY = xy(x0,y0,L1,L2,noelms1,noelms2)\n",
    "EToV = conelmtab(noelms1,noelms2)\n",
    "\n",
    "ConstructBeds(VX,VY,EToV)"
   ]
  }
 ],
 "metadata": {
  "kernelspec": {
   "display_name": "Python 3",
   "language": "python",
   "name": "python3"
  },
  "language_info": {
   "codemirror_mode": {
    "name": "ipython",
    "version": 3
   },
   "file_extension": ".py",
   "mimetype": "text/x-python",
   "name": "python",
   "nbconvert_exporter": "python",
   "pygments_lexer": "ipython3",
   "version": "3.12.0"
  },
  "vscode": {
   "interpreter": {
    "hash": "916dbcbb3f70747c44a77c7bcd40155683ae19c65e1c03b4aa3499c5328201f1"
   }
  }
 },
 "nbformat": 4,
 "nbformat_minor": 2
}
