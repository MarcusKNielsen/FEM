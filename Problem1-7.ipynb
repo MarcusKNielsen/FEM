{
 "cells": [
  {
   "cell_type": "code",
   "execution_count": 3,
   "metadata": {},
   "outputs": [],
   "source": [
    "import numpy as np\n",
    "from matplotlib import pyplot as plt"
   ]
  },
  {
   "cell_type": "markdown",
   "metadata": {},
   "source": [
    "*a)*"
   ]
  },
  {
   "cell_type": "code",
   "execution_count": 4,
   "metadata": {},
   "outputs": [],
   "source": [
    "u = lambda x: np.exp(-800*(x-0.4)**2) + 0.25 * np.exp(-40*(x-0.8)**2)\n",
    "import sympy as sp\n",
    "\n",
    "x = sp.symbols('x')\n",
    "u_sym = sp.exp(-800*(x-0.4)**2) + 0.25 * sp.exp(-40*(x-0.8)**2)\n",
    "\n",
    "\n",
    "u_double_diff = sp.exp(-800)"
   ]
  },
  {
   "cell_type": "code",
   "execution_count": 5,
   "metadata": {},
   "outputs": [
    {
     "data": {
      "text/latex": [
       "$\\displaystyle 0.0504741294986639$"
      ],
      "text/plain": [
       "0.0504741294986639"
      ]
     },
     "execution_count": 5,
     "metadata": {},
     "output_type": "execute_result"
    }
   ],
   "source": [
    "u_sym.subs(x,0)\n",
    "u_sym.subs(x,1)"
   ]
  },
  {
   "cell_type": "code",
   "execution_count": 6,
   "metadata": {},
   "outputs": [
    {
     "data": {
      "text/plain": [
       "2560000"
      ]
     },
     "execution_count": 6,
     "metadata": {},
     "output_type": "execute_result"
    }
   ],
   "source": [
    "1600*800*2"
   ]
  },
  {
   "cell_type": "markdown",
   "metadata": {},
   "source": [
    "*b)*"
   ]
  },
  {
   "cell_type": "markdown",
   "metadata": {},
   "source": [
    "*c)*"
   ]
  },
  {
   "cell_type": "code",
   "execution_count": 7,
   "metadata": {},
   "outputs": [],
   "source": [
    "def compute_error_decrease(uc,uf,VXc,VXf,Old2New):\n",
    "    \n",
    "    N = len(VXc)-1\n",
    "    err = np.zeros(N)\n",
    "\n",
    "    for n, triple in enumerate(Old2New):\n",
    "\n",
    "        i = triple[0]\n",
    "        j = triple[2]\n",
    "        k = triple[1]\n",
    "\n",
    "        xi   = VXc[i]\n",
    "        xj = VXc[j]\n",
    "        xk  =  xi + (xj - xi)/2\n",
    "\n",
    "        uci  = uc[i]\n",
    "        ucj =  uc[j]\n",
    "\n",
    "        ufi = uf[i]\n",
    "        ufk = uf[k]\n",
    "        ufj = uf[j]\n",
    "\n",
    "        a  = (ucj - uci) / (xj - xi)\n",
    "        a1 = (ufk - ufi) / (xk - xi)\n",
    "        a2 = (ufj - ufk) / (xj - xk)\n",
    "\n",
    "        b = uci - a * xi\n",
    "        b1 = ufi - a1 * xi\n",
    "        b2 = ufj - a2 * xj\n",
    "\n",
    "        int1 = ((a-a1)**2/3) * (xk**3 - xi**3) + (b-b1)**2 * (xk - xi) + (a-a1)*(b-b1) * (xk**2 - xi**2)\n",
    "        int2 = ((a-a2)**2/3) * (xj**3 - xk**3) + (b-b2)**2 * (xj - xk) + (a-a2)*(b-b2) * (xj**2 - xk**2)\n",
    "        \n",
    "        err[n] = np.sqrt(int1 + int2)\n",
    "\n",
    "    return err"
   ]
  },
  {
   "cell_type": "markdown",
   "metadata": {},
   "source": [
    "Test case"
   ]
  },
  {
   "cell_type": "code",
   "execution_count": 8,
   "metadata": {},
   "outputs": [
    {
     "data": {
      "text/plain": [
       "array([0.28867513])"
      ]
     },
     "execution_count": 8,
     "metadata": {},
     "output_type": "execute_result"
    }
   ],
   "source": [
    "uc = np.array([0,0])\n",
    "uf = np.array([0,0,1/2])\n",
    "\n",
    "VXc = np.array([0,1])\n",
    "VXf = np.array([0,1/2,1])\n",
    "\n",
    "Old2New = np.array([[0,2,1]])\n",
    "\n",
    "compute_error_decrease(uc,uf,VXc,VXf,Old2New)\n"
   ]
  },
  {
   "cell_type": "markdown",
   "metadata": {},
   "source": [
    "*c)* Same as in 1.6."
   ]
  },
  {
   "cell_type": "code",
   "execution_count": 9,
   "metadata": {},
   "outputs": [],
   "source": [
    "def refine_marked(EToVcoarse, xcoarse, idxMarked):\n",
    "    N = len(EToVcoarse[:,0]) + 1\n",
    "\n",
    "    # ETofine = EToVcoarse.copy()\n",
    "    # xcoarse = xcoarse.copy()\n",
    "\n",
    "    for idx in idxMarked:\n",
    "        xi   = xcoarse[EToVcoarse[idx][0]]\n",
    "        xip1 = xcoarse[EToVcoarse[idx][1]]\n",
    "        xih  =  xi + (xip1 - xi)/2\n",
    "\n",
    "        xcoarse = np.hstack((xcoarse,[xih]))\n",
    "\n",
    "        M = EToVcoarse[idx][1]\n",
    "        EToVcoarse[idx][1] = N \n",
    "        EToVcoarse = np.vstack((EToVcoarse,[N,M]))\n",
    "\n",
    "        N += 1\n",
    "\n",
    "    return EToVcoarse, xcoarse"
   ]
  },
  {
   "cell_type": "markdown",
   "metadata": {},
   "source": [
    "*d)*"
   ]
  },
  {
   "cell_type": "markdown",
   "metadata": {},
   "source": [
    "We obtain the weak formulation\n",
    "\\begin{equation}\n",
    "    \\int_{\\Omega} v'u'\\,dx + \\int_{\\Omega} vu dx = -\\int_{\\Omega} vf dx\n",
    "\\end{equation}\n",
    "and see that the left hand side is the same is in problem 1.1. Thus the elemental contributions to $A$ are the same.\n",
    "\n",
    "In the exercise it is given that\n",
    "$$\\int_{0}^L f(x)v(x) dx \\approx \\sum_{j=1}^M \\hat{f}_j \\int_0^L N_i(x)N_j(x) dx$$ \n",
    "which we may reduce since $N_i, N_j$ only overlap for $j=i-1,i,i+1$. We note that these integrals were part of the computation of the $K_i$ matrix earlier. Thus we have\n",
    "\\begin{equation}\n",
    "    \\bm{b}_i = -\\begin{pmatrix} \\hat{f}_{i-1} & \\hat{f}_{i} & \\hat{f}_{i+1}  \\end{pmatrix} \n",
    "    \\begin{pmatrix} \\frac{h}{6} \\\\ \\frac{h}{3} \\\\ \\frac{h}{6} \\end{pmatrix}\n",
    "\\end{equation}\n",
    "\n",
    "where $\\hat{f}_i = f(x_i)$"
   ]
  },
  {
   "cell_type": "markdown",
   "metadata": {},
   "source": [
    "*e)*"
   ]
  },
  {
   "cell_type": "markdown",
   "metadata": {},
   "source": [
    "Assembly"
   ]
  },
  {
   "cell_type": "code",
   "execution_count": 38,
   "metadata": {},
   "outputs": [],
   "source": [
    "import numpy as np\n",
    "from scipy.sparse import csr_matrix\n",
    "K = lambda h: np.array([[1/h + h/3, -1/h + h/6], [-1/h + h/6, 1/h + h/3]])\n",
    "\n",
    "def GlobalAssembly(x,c,d,func):\n",
    "    M = len(x)\n",
    "    nnzmax = 4 * M\n",
    "    ii = np.ones(nnzmax, dtype=int)\n",
    "    jj = np.ones(nnzmax, dtype=int)\n",
    "    ss = np.zeros(nnzmax)\n",
    "    b = np.zeros(M)\n",
    "    count = 0\n",
    "\n",
    "    for i in range(M - 1):\n",
    "        h = x[i+1] - x[i]\n",
    "\n",
    "        fval = func(x[i])\n",
    "\n",
    "        if i > 0:\n",
    "            b[i-1] += h*fval/6        \n",
    "        b[i] += 2*h*fval/3\n",
    "        b[i+1] += h*fval/6\n",
    "\n",
    "        Ki = K(h)\n",
    "\n",
    "        ii[count:count + 4] = [i, i, i + 1, i + 1]\n",
    "        jj[count:count + 4] = [i, i + 1, i + 1, i]\n",
    "        ss[count:count + 4] = [\n",
    "        Ki[0, 0],\n",
    "        Ki[0, 1],\n",
    "        Ki[1, 1],\n",
    "        Ki[1, 0]\n",
    "        ]\n",
    "        count += 4\n",
    "    \n",
    "    A = csr_matrix((ss[:count], (ii[:count], jj[:count])), shape=(M, M))\n",
    "    b = -b\n",
    "    \n",
    "    # Boundary conditions\n",
    "    b[0] = c\n",
    "    b[1] -= A[0,1]*c\n",
    "\n",
    "    A[0,0] = 1\n",
    "    A[0,1] = 0\n",
    "    A[1,0] = 0\n",
    "    \n",
    "    b[M-1] = d\n",
    "    b[M-2] -= A[M-1,M-2]*d\n",
    "\n",
    "    A[M-1,M-1] = 1\n",
    "    A[M-1,M-2] = 0\n",
    "    A[M-2,M-1] = 0\n",
    "\n",
    "    \n",
    "\n",
    "    return A, b"
   ]
  },
  {
   "cell_type": "code",
   "execution_count": null,
   "metadata": {},
   "outputs": [],
   "source": []
  },
  {
   "cell_type": "code",
   "execution_count": 39,
   "metadata": {},
   "outputs": [],
   "source": [
    "from scipy import sparse\n",
    "from matplotlib import pyplot as plt\n",
    "\n",
    "def BVP1D(L, x, c, d,func, plot=True):\n",
    "    \n",
    "    if type(x) == int:\n",
    "        x = np.linspace(0, L, x)\n",
    "\n",
    "    A,b = GlobalAssembly(x,c,d,func)\n",
    "\n",
    "    u = sparse.linalg.spsolve(A, b)\n",
    "    \n",
    "    if plot:\n",
    "        plt.plot(x, u, 'r--',label=\"FEM solution\")\n",
    "        plt.show()\n",
    "\n",
    "    return u\n"
   ]
  },
  {
   "cell_type": "code",
   "execution_count": 41,
   "metadata": {},
   "outputs": [
    {
     "data": {
      "text/plain": [
       "[<matplotlib.lines.Line2D at 0x2824b68d3d0>]"
      ]
     },
     "execution_count": 41,
     "metadata": {},
     "output_type": "execute_result"
    },
    {
     "data": {
      "image/png": "[encoded data removed]",
      "text/plain": [
       "<Figure size 640x480 with 1 Axes>"
      ]
     },
     "metadata": {},
     "output_type": "display_data"
    }
   ],
   "source": [
    "f = lambda x: (np.exp(-800*(x-0.4)**2)*((-1600*(x-0.4))**2-1601) + 0.25*np.exp(-40*(x-0.8)**2)*((-80*(x-0.8))**2-81))\n",
    "\n",
    "\n",
    "c = u(0)\n",
    "d = u(1)\n",
    "\n",
    "uhat = BVP1D(L=1, x=100, c=u(0), d=u(1), func=f, plot=None)\n",
    "\n",
    "xax = np.linspace(0,1,100)\n",
    "u = lambda x: np.exp(-800*(x-0.4)**2) + 0.25 * np.exp(-40*(x-0.8)**2)\n",
    "\n",
    "plt.plot(xax, u(xax), 'b-',label=\"Exact solution\")\n",
    "plt.plot(xax, uhat, 'r--',label=\"FEM solution\")"
   ]
  },
  {
   "cell_type": "code",
   "execution_count": 30,
   "metadata": {},
   "outputs": [
    {
     "data": {
      "text/plain": [
       "array([ 1.90546630e-12, -2.98716803e-04, -1.00226478e-02,  1.80644050e-01,\n",
       "        5.04741295e-02])"
      ]
     },
     "execution_count": 30,
     "metadata": {},
     "output_type": "execute_result"
    }
   ],
   "source": [
    "c = u(0)\n",
    "d = u(1)\n",
    "x = np.linspace(0,1,5)\n",
    "u = lambda x: np.exp(-800*(x-0.4)**2) + 0.25 * np.exp(-40*(x-0.8)**2)\n",
    "\n",
    "A, b = GlobalAssembly(c=c, d=d, func= u, x=x)\n",
    "b"
   ]
  },
  {
   "cell_type": "markdown",
   "metadata": {},
   "source": [
    "*f)*"
   ]
  },
  {
   "cell_type": "code",
   "execution_count": 13,
   "metadata": {},
   "outputs": [],
   "source": [
    "def AMR(u,VX,EToV,tol=10e-4, alpha=1):\n",
    "    idxMarked = [0]\n",
    "\n",
    "\n",
    "    while len(idxMarked)>0:\n",
    "        err = compute_error_decrease(u,VX,EToV)\n",
    "        idxMarked = np.where(err > tol*alpha)[0]\n",
    "        EToV, VX = refine_marked(EToV,VX,idxMarked)\n",
    "    \n",
    "    return EToV, VX, err"
   ]
  }
 ],
 "metadata": {
  "kernelspec": {
   "display_name": "FEM",
   "language": "python",
   "name": "python3"
  },
  "language_info": {
   "codemirror_mode": {
    "name": "ipython",
    "version": 3
   },
   "file_extension": ".py",
   "mimetype": "text/x-python",
   "name": "python",
   "nbconvert_exporter": "python",
   "pygments_lexer": "ipython3",
   "version": "3.11.2"
  }
 },
 "nbformat": 4,
 "nbformat_minor": 2
}
