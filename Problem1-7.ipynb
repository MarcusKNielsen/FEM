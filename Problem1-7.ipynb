{
 "cells": [
  {
   "cell_type": "code",
   "execution_count": 1,
   "metadata": {},
   "outputs": [],
   "source": [
    "import numpy as np\n",
    "from matplotlib import pyplot as plt"
   ]
  },
  {
   "cell_type": "markdown",
   "metadata": {},
   "source": [
    "*a)*"
   ]
  },
  {
   "cell_type": "code",
   "execution_count": 2,
   "metadata": {},
   "outputs": [],
   "source": [
    "u = lambda x: np.exp(-800*(x-0.4)**2) + 0.25 * np.exp(-40*(x-0.8)**2)\n",
    "import sympy as sp\n",
    "\n",
    "x = sp.symbols('x')\n",
    "u_sym = sp.exp(-800*(x-0.4)**2) + 0.25 * sp.exp(-40*(x-0.8)**2)\n",
    "\n",
    "\n",
    "u_double_diff = sp.exp(-800)"
   ]
  },
  {
   "cell_type": "code",
   "execution_count": 3,
   "metadata": {},
   "outputs": [
    {
     "data": {
      "text/latex": [
       "$\\displaystyle 0.0504741294986639$"
      ],
      "text/plain": [
       "0.0504741294986639"
      ]
     },
     "execution_count": 3,
     "metadata": {},
     "output_type": "execute_result"
    }
   ],
   "source": [
    "u_sym.subs(x,0)\n",
    "u_sym.subs(x,1)"
   ]
  },
  {
   "cell_type": "markdown",
   "metadata": {},
   "source": [
    "*b)*"
   ]
  },
  {
   "cell_type": "code",
   "execution_count": 6,
   "metadata": {},
   "outputs": [],
   "source": [
    "def compute_error_decrease(uc,uf,VXc,VXf,Old2New):\n",
    "    \n",
    "    N = len(VXc)-1\n",
    "    err = np.zeros(N)\n",
    "\n",
    "    for n, triple in enumerate(Old2New):\n",
    "\n",
    "        i = triple[0]\n",
    "        j = triple[2]\n",
    "        k = triple[1]\n",
    "\n",
    "        xi   = VXc[i]\n",
    "        xj = VXc[j]\n",
    "        xk  =  xi + (xj - xi)/2\n",
    "\n",
    "        uci  = uc[i]\n",
    "        ucj =  uc[j]\n",
    "\n",
    "        ufi = uf[i]\n",
    "        ufk = uf[k]\n",
    "        ufj = uf[j]\n",
    "\n",
    "        a  = (ucj - uci) / (xj - xi)\n",
    "        a1 = (ufk - ufi) / (xk - xi)\n",
    "        a2 = (ufj - ufk) / (xj - xk)\n",
    "\n",
    "        b = uci - a * xi\n",
    "        b1 = ufi - a1 * xi\n",
    "        b2 = ufj - a2 * xj\n",
    "\n",
    "        int1 = ((a-a1)**2/3) * (xk**3 - xi**3) + (b-b1)**2 * (xk - xi) + (a-a1)*(b-b1) * (xk**2 - xi**2)\n",
    "        int2 = ((a-a2)**2/3) * (xj**3 - xk**3) + (b-b2)**2 * (xj - xk) + (a-a2)*(b-b2) * (xj**2 - xk**2)\n",
    "        \n",
    "        err[n] = np.sqrt(int1 + int2)\n",
    "\n",
    "    return err"
   ]
  },
  {
   "cell_type": "markdown",
   "metadata": {},
   "source": [
    "Test case"
   ]
  },
  {
   "cell_type": "code",
   "execution_count": 7,
   "metadata": {},
   "outputs": [
    {
     "data": {
      "text/plain": [
       "array([0.28867513])"
      ]
     },
     "execution_count": 7,
     "metadata": {},
     "output_type": "execute_result"
    }
   ],
   "source": [
    "uc = np.array([0,0])\n",
    "uf = np.array([0,0,1/2])\n",
    "\n",
    "VXc = np.array([0,1])\n",
    "VXf = np.array([0,1/2,1])\n",
    "\n",
    "Old2New = np.array([[0,2,1]])\n",
    "\n",
    "compute_error_decrease(uc,uf,VXc,VXf,Old2New)\n"
   ]
  },
  {
   "cell_type": "markdown",
   "metadata": {},
   "source": [
    "*c)* Same as in 1.6."
   ]
  },
  {
   "cell_type": "code",
   "execution_count": 8,
   "metadata": {},
   "outputs": [],
   "source": [
    "def refine_marked(EToVcoarse, xcoarse, idxMarked):\n",
    "    N = len(EToVcoarse[:,0]) + 1\n",
    "    Old2New = np.zeros((len(idxMarked),3),dtype=int)\n",
    "\n",
    "    EToVfine = EToVcoarse.copy()\n",
    "    xfine = xcoarse.copy()\n",
    "\n",
    "    for i,idx in enumerate(idxMarked):\n",
    "\n",
    "        xi   = xfine[EToVfine[idx][0]]\n",
    "        xip1 = xfine[EToVfine[idx][1]]\n",
    "        xih  =  xi + (xip1 - xi)/2\n",
    "\n",
    "        xfine = np.hstack((xfine,[xih]))\n",
    "\n",
    "        M = EToVfine[idx][1]\n",
    "        EToVfine[idx][1] = N \n",
    "        EToVfine = np.vstack((EToVfine,[N,M]))\n",
    "\n",
    "        Old2New[i] = [EToVfine[idx][0], N, M]\n",
    "\n",
    "        N += 1\n",
    "\n",
    "    return EToVfine, xfine, Old2New"
   ]
  },
  {
   "cell_type": "markdown",
   "metadata": {},
   "source": [
    "*d)*"
   ]
  },
  {
   "cell_type": "markdown",
   "metadata": {},
   "source": [
    "We obtain the weak formulation\n",
    "\\begin{equation}\n",
    "    \\int_{\\Omega} v'u'\\,dx + \\int_{\\Omega} vu dx = -\\int_{\\Omega} vf dx\n",
    "\\end{equation}\n",
    "and see that the left hand side is the same is in problem 1.1. Thus the elemental contributions to $A$ are the same.\n",
    "\n",
    "In the exercise it is given that\n",
    "$$\\int_{0}^L f(x)v(x) dx \\approx \\sum_{j=1}^M \\hat{f}_j \\int_0^L N_i(x)N_j(x) dx$$ \n",
    "which we may reduce since $N_i, N_j$ only overlap for $j=i-1,i,i+1$. We note that these integrals were part of the computation of the $K_i$ matrix earlier. Thus we have\n",
    "\\begin{equation}\n",
    "    \\bm{b}_i = -\\begin{pmatrix} \\hat{f}_{i-1} & \\hat{f}_{i} & \\hat{f}_{i+1}  \\end{pmatrix} \n",
    "    \\begin{pmatrix} \\frac{h}{6} \\\\ \\frac{2h}{3} \\\\ \\frac{h}{6} \\end{pmatrix}\n",
    "\\end{equation}\n",
    "\n",
    "where $\\hat{f}_i = f(x_i)$"
   ]
  },
  {
   "cell_type": "markdown",
   "metadata": {},
   "source": [
    "*e)*"
   ]
  },
  {
   "cell_type": "markdown",
   "metadata": {},
   "source": [
    "Assembly"
   ]
  },
  {
   "cell_type": "code",
   "execution_count": 9,
   "metadata": {},
   "outputs": [],
   "source": [
    "import numpy as np\n",
    "from scipy.sparse import csr_matrix\n",
    "K = lambda h: np.array([[1/h + h/3, -1/h + h/6], [-1/h + h/6, 1/h + h/3]])\n",
    "\n",
    "def GlobalAssembly(x,c,d,func):\n",
    "    M = len(x)\n",
    "    nnzmax = 4 * M\n",
    "    ii = np.ones(nnzmax, dtype=int)\n",
    "    jj = np.ones(nnzmax, dtype=int)\n",
    "    ss = np.zeros(nnzmax)\n",
    "    b = np.zeros(M)\n",
    "    count = 0\n",
    "\n",
    "    for i in range(M - 1):\n",
    "        h = x[i+1] - x[i]\n",
    "\n",
    "        fval = func(x[i])\n",
    "\n",
    "        if i > 0:\n",
    "            b[i-1] += h*fval/6        \n",
    "        b[i] += 2*h*fval/3\n",
    "        b[i+1] += h*fval/6\n",
    "\n",
    "        Ki = K(h)\n",
    "\n",
    "        ii[count:count + 4] = [i, i, i + 1, i + 1]\n",
    "        jj[count:count + 4] = [i, i + 1, i + 1, i]\n",
    "        ss[count:count + 4] = [\n",
    "        Ki[0, 0],\n",
    "        Ki[0, 1],\n",
    "        Ki[1, 1],\n",
    "        Ki[1, 0]\n",
    "        ]\n",
    "        count += 4\n",
    "    \n",
    "    A = csr_matrix((ss[:count], (ii[:count], jj[:count])), shape=(M, M))\n",
    "    b = -b\n",
    "    \n",
    "    # Boundary conditions\n",
    "    b[0] = c\n",
    "    b[1] -= A[0,1]*c\n",
    "\n",
    "    A[0,0] = 1\n",
    "    A[0,1] = 0\n",
    "    A[1,0] = 0\n",
    "    \n",
    "    b[M-1] = d\n",
    "    b[M-2] -= A[M-1,M-2]*d\n",
    "\n",
    "    A[M-1,M-1] = 1\n",
    "    A[M-1,M-2] = 0\n",
    "    A[M-2,M-1] = 0\n",
    "\n",
    "    \n",
    "\n",
    "    return A, b"
   ]
  },
  {
   "cell_type": "code",
   "execution_count": 10,
   "metadata": {},
   "outputs": [],
   "source": [
    "from scipy import sparse\n",
    "from matplotlib import pyplot as plt\n",
    "\n",
    "def BVP1D(L, x, c, d,func, plot=True):\n",
    "    \n",
    "    if type(x) == int:\n",
    "        x = np.linspace(0, L, x)\n",
    "\n",
    "    A,b = GlobalAssembly(x,c,d,func)\n",
    "\n",
    "    u = sparse.linalg.spsolve(A, b)\n",
    "    \n",
    "    if plot:\n",
    "        plt.plot(x, u, 'r--',label=\"FEM solution\")\n",
    "        plt.show()\n",
    "\n",
    "    return u\n"
   ]
  },
  {
   "cell_type": "code",
   "execution_count": 78,
   "metadata": {},
   "outputs": [
    {
     "data": {
      "text/plain": [
       "[<matplotlib.lines.Line2D at 0x116836b4a40>]"
      ]
     },
     "execution_count": 78,
     "metadata": {},
     "output_type": "execute_result"
    },
    {
     "data": {
      "image/png": "[encoded data removed]",
      "text/plain": [
       "<Figure size 640x480 with 1 Axes>"
      ]
     },
     "metadata": {},
     "output_type": "display_data"
    }
   ],
   "source": [
    "f = lambda x: (np.exp(-800*(x-0.4)**2)*((-1600*(x-0.4))**2-1601) + 0.25*np.exp(-40*(x-0.8)**2)*((-80*(x-0.8))**2-81))\n",
    "\n",
    "\n",
    "c = u(0)\n",
    "d = u(1)\n",
    "\n",
    "N = 100\n",
    "uhat = BVP1D(L=1, x=N, c=u(0), d=u(1), func=f, plot=None)\n",
    "\n",
    "xax = np.linspace(0,1,100)\n",
    "u = lambda x: np.exp(-800*(x-0.4)**2) + 0.25 * np.exp(-40*(x-0.8)**2)\n",
    "\n",
    "plt.plot(xax, u(xax), 'b-',label=\"Exact solution\")\n",
    "plt.plot(np.linspace(0,1,N), uhat, 'r--',label=\"FEM solution\")"
   ]
  },
  {
   "cell_type": "code",
   "execution_count": 44,
   "metadata": {},
   "outputs": [
    {
     "data": {
      "text/plain": [
       "array([ 1.90546630e-12, -2.98833896e-04, -1.06198472e-02,  1.61793270e-01,\n",
       "        5.04741295e-02])"
      ]
     },
     "execution_count": 44,
     "metadata": {},
     "output_type": "execute_result"
    }
   ],
   "source": [
    "c = u(0)\n",
    "d = u(1)\n",
    "x = np.linspace(0,1,5)\n",
    "u = lambda x: np.exp(-800*(x-0.4)**2) + 0.25 * np.exp(-40*(x-0.8)**2)\n",
    "\n",
    "A, b = GlobalAssembly(c=c, d=d, func= u, x=x)\n",
    "b"
   ]
  },
  {
   "cell_type": "markdown",
   "metadata": {},
   "source": [
    "*f)*"
   ]
  },
  {
   "cell_type": "code",
   "execution_count": 218,
   "metadata": {},
   "outputs": [],
   "source": [
    "def DriverAMR17(L,c,d,VXc,func,tol, maxit):\n",
    "    it = 0\n",
    "    idxMarked = np.arange(len(VXc)-1)\n",
    "\n",
    "    while len(idxMarked)>0 and it < maxit:\n",
    "        idxs = np.arange(len(VXc))\n",
    "\n",
    "        # sorter her efter value\n",
    "        sort_indices_c = np.argsort(VXc)\n",
    "        uc = BVP1D(L, VXc[sort_indices_c], c, d,func, plot=False)\n",
    "\n",
    "        EToVc = np.vstack((idxs[:-1], idxs[1:])).T\n",
    "        EToVf, VXf,Old2New = refine_marked(EToVc,VXc,idxMarked)\n",
    "\n",
    "        sort_indices_f = np.argsort(VXf)\n",
    "        uf = BVP1D(L, VXf[sort_indices_f], c, d,func, plot=False)\n",
    "    \n",
    "        # sorter her efter index\n",
    "        uc = uc[np.argsort(sort_indices_c)]\n",
    "        uf = uf[np.argsort(sort_indices_f)]\n",
    "\n",
    "        err = compute_error_decrease(uc,uf,VXc,VXf,Old2New)\n",
    "\n",
    "        print(err)\n",
    "        idxMarked = np.where(err > tol)[0]\n",
    "        print(idxMarked)\n",
    "        EToVc, VXc, Old2New = refine_marked(EToVc,VXc,idxMarked)\n",
    "\n",
    "        it +=1\n",
    "        idxMarked = np.arange(len(VXc)-1)\n",
    "\n",
    "\n",
    "    uc = BVP1D(L, VXc, c, d,func, plot=False)\n",
    "    \n",
    "    return VXc, uc, it,Old2New"
   ]
  },
  {
   "cell_type": "code",
   "execution_count": 223,
   "metadata": {},
   "outputs": [
    {
     "name": "stdout",
     "output_type": "stream",
     "text": [
      "0\n",
      "[0.0034853  0.02189891 0.05344763 0.01933071]\n",
      "[1 2 3]\n",
      "1\n",
      "[nan nan nan nan nan nan nan]\n",
      "[]\n",
      "2\n",
      "[nan nan nan nan nan nan nan]\n",
      "[]\n"
     ]
    },
    {
     "name": "stderr",
     "output_type": "stream",
     "text": [
      "C:\\Users\\jhvid\\AppData\\Local\\Temp\\ipykernel_25324\\4192341093.py:3: RuntimeWarning: divide by zero encountered in scalar divide\n",
      "  K = lambda h: np.array([[1/h + h/3, -1/h + h/6], [-1/h + h/6, 1/h + h/3]])\n"
     ]
    }
   ],
   "source": [
    "VX = np.linspace(0,1,5)\n",
    "VXc, uc, it,Old2New = DriverAMR17(L=1,c=u(0),d=u(1),VXc=VX,func=f,tol=10e-3,maxit=3)"
   ]
  },
  {
   "cell_type": "code",
   "execution_count": 52,
   "metadata": {},
   "outputs": [],
   "source": [
    "def prep_grid(L,c,d,VXc,func):\n",
    "    idxs = np.arange(len(VXc))\n",
    "    idxMarked = idxs[:-1]\n",
    "\n",
    "    # sorter her efter value\n",
    "    sort_indices_c = np.argsort(VXc)\n",
    "    uc = BVP1D(L, VXc[sort_indices_c], c, d,func, plot=False)\n",
    "\n",
    "    EToVc = np.vstack((idxs[:-1], idxs[1:])).T\n",
    "\n",
    "\n",
    "    EToVf, VXf,Old2New = refine_marked(EToVc,VXc,idxMarked)\n",
    "\n",
    "    sort_indices_f = np.argsort(VXf)\n",
    "    uf = BVP1D(L, VXf[sort_indices_f], c, d,func, plot=False)\n",
    "    \n",
    "    # sorter her efter index\n",
    "    uc = uc[np.argsort(sort_indices_c)]\n",
    "    uf = uf[np.argsort(sort_indices_f)]\n",
    "\n",
    "    return uc,uf, VXc, VXf, EToVc, EToVf, Old2New"
   ]
  },
  {
   "cell_type": "code",
   "execution_count": 89,
   "metadata": {},
   "outputs": [
    {
     "name": "stderr",
     "output_type": "stream",
     "text": [
      "C:\\Users\\jhvid\\AppData\\Local\\Temp\\ipykernel_7292\\4192341093.py:3: RuntimeWarning: divide by zero encountered in scalar divide\n",
      "  K = lambda h: np.array([[1/h + h/3, -1/h + h/6], [-1/h + h/6, 1/h + h/3]])\n",
      "c:\\Users\\jhvid\\anaconda3\\envs\\FEM\\Lib\\site-packages\\scipy\\sparse\\linalg\\_dsolve\\linsolve.py:293: MatrixRankWarning: Matrix is exactly singular\n",
      "  warn(\"Matrix is exactly singular\", MatrixRankWarning)\n"
     ]
    }
   ],
   "source": [
    "L = 1\n",
    "c = 0\n",
    "d = 1\n",
    "VXc = np.linspace(0,1,5)\n",
    "func = lambda x: 1*x\n",
    "\n",
    "uc,uf, VXc, VXf, EToVc, EToVf, Old2New = prep_grid(L,c,d,VXc,func)\n",
    "\n",
    "uc,uf, VXc, VXf, EToVc, EToVf, Old2New = prep_grid(L,c,d,VXf,func)"
   ]
  },
  {
   "cell_type": "code",
   "execution_count": 90,
   "metadata": {},
   "outputs": [
    {
     "name": "stdout",
     "output_type": "stream",
     "text": [
      "[[0 1]\n",
      " [1 2]\n",
      " [2 3]\n",
      " [3 4]\n",
      " [4 5]\n",
      " [5 6]\n",
      " [6 7]\n",
      " [7 8]]\n",
      "\n",
      "[[ 0  9]\n",
      " [ 1 10]\n",
      " [ 2 11]\n",
      " [ 3 12]\n",
      " [ 4 13]\n",
      " [ 5 14]\n",
      " [ 6 15]\n",
      " [ 7 16]\n",
      " [ 9  1]\n",
      " [10  2]\n",
      " [11  3]\n",
      " [12  4]\n",
      " [13  5]\n",
      " [14  6]\n",
      " [15  7]\n",
      " [16  8]]\n",
      "\n",
      "[[ 0  9  1]\n",
      " [ 1 10  2]\n",
      " [ 2 11  3]\n",
      " [ 3 12  4]\n",
      " [ 4 13  5]\n",
      " [ 5 14  6]\n",
      " [ 6 15  7]\n",
      " [ 7 16  8]]\n"
     ]
    }
   ],
   "source": [
    "print(EToVc)\n",
    "print()\n",
    "print(EToVf)\n",
    "print()\n",
    "print(Old2New)\n"
   ]
  }
 ],
 "metadata": {
  "kernelspec": {
   "display_name": "FEM",
   "language": "python",
   "name": "python3"
  },
  "language_info": {
   "codemirror_mode": {
    "name": "ipython",
    "version": 3
   },
   "file_extension": ".py",
   "mimetype": "text/x-python",
   "name": "python",
   "nbconvert_exporter": "python",
   "pygments_lexer": "ipython3",
   "version": "3.12.0"
  }
 },
 "nbformat": 4,
 "nbformat_minor": 2
}
