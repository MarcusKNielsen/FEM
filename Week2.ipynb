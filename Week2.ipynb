{
 "cells": [
  {
   "cell_type": "code",
   "execution_count": 4,
   "metadata": {},
   "outputs": [],
   "source": [
    "u = lambda x: np.exp(-800*(x-0.4)**2) + 0.25 * np.exp(-40*(x-0.8)**2)\n",
    "import sympy as sp\n",
    "\n",
    "x = sp.symbols('x')\n",
    "u_sym = sp.exp(-800*(x-0.4)**2) + 0.25 * sp.exp(-40*(x-0.8)**2)"
   ]
  },
  {
   "cell_type": "code",
   "execution_count": 5,
   "metadata": {},
   "outputs": [
    {
     "data": {
      "text/latex": [
       "$\\displaystyle - 1600.0 \\left(x - 0.8\\right)^{2} e^{- 40 \\left(x - 0.8\\right)^{2}} - 2560000 \\left(x - 0.4\\right)^{2} e^{- 800 \\left(x - 0.4\\right)^{2}} + 1601 e^{- 800 \\left(x - 0.4\\right)^{2}} + 20.25 e^{- 40 \\left(x - 0.8\\right)^{2}}$"
      ],
      "text/plain": [
       "-1600.0*(x - 0.8)**2*exp(-40*(x - 0.8)**2) - 2560000*(x - 0.4)**2*exp(-800*(x - 0.4)**2) + 1601*exp(-800*(x - 0.4)**2) + 20.25*exp(-40*(x - 0.8)**2)"
      ]
     },
     "execution_count": 5,
     "metadata": {},
     "output_type": "execute_result"
    }
   ],
   "source": [
    "u_double_diff = sp.diff(u_sym, x, 2)\n",
    "u_sym-u_double_diff"
   ]
  },
  {
   "cell_type": "code",
   "execution_count": 6,
   "metadata": {},
   "outputs": [
    {
     "data": {
      "text/latex": [
       "$\\displaystyle 1.90546629862822 \\cdot 10^{-12}$"
      ],
      "text/plain": [
       "1.90546629862822e-12"
      ]
     },
     "execution_count": 6,
     "metadata": {},
     "output_type": "execute_result"
    }
   ],
   "source": [
    "u_sym.subs(x,0)"
   ]
  },
  {
   "cell_type": "code",
   "execution_count": 7,
   "metadata": {},
   "outputs": [
    {
     "data": {
      "text/latex": [
       "$\\displaystyle 0.0504741294986639$"
      ],
      "text/plain": [
       "0.0504741294986639"
      ]
     },
     "execution_count": 7,
     "metadata": {},
     "output_type": "execute_result"
    }
   ],
   "source": [
    "u_sym.subs(x,1)"
   ]
  },
  {
   "cell_type": "markdown",
   "metadata": {},
   "source": [
    "*b)*"
   ]
  },
  {
   "cell_type": "code",
   "execution_count": 8,
   "metadata": {},
   "outputs": [],
   "source": [
    "import numpy as np\n",
    "\n",
    "def compute_error_decrease(uc,uf,VX,EToV):\n",
    "    \n",
    "    N = len(EToV[:,0])\n",
    "    err = np.zeros(N)\n",
    "\n",
    "    for i, pair in enumerate(EToV):\n",
    "\n",
    "        j = pair[0]\n",
    "        k = pair[0]\n",
    "\n",
    "        xi   = VX[j]\n",
    "        xip1 = VX[k]\n",
    "        xih  =  xi + (xip1 - xi)/2\n",
    "\n",
    "        ui   = uc[j]\n",
    "        uip1 = uc[k]\n",
    "                \n",
    "\n",
    "        a = ( ui + 2 * uih - uip1 ) / (xi - xip1)\n",
    "\n",
    "        a_a1 = ( - ui + 2 * uih - uip1 ) / (xi - xip1)\n",
    "        a_a2 = - a_a1     \n",
    "        b_b1 = a_a2 * xi\n",
    "        b_b2 = a_a1*xip1\n",
    "\n",
    "        int1 = (a_a1**2/3) * (xih**3 - xi**3) + (b_b1)**2 * (xih - xi) + (a_a1)*(b_b1) * (xih**2 - xi**2)\n",
    "        int2 = (a_a2**2/3) * (xip1**3 - xih**3) + (b_b2)**2 * (xip1 - xih) + (a_a2)*(b_b2) * (xip1**2 - xih**2)\n",
    "        # if int1 < 0 or int2 < 0:\n",
    "        #     print('a_a1',a_a1)\n",
    "        #     print('a_a2',a_a2)\n",
    "        #     print('b_b1',b_b1)\n",
    "        #     print('b_b2',b_b2)\n",
    "        #     print('xi',xi)\n",
    "        #     print('xip1',xip1)\n",
    "        #     return False\n",
    "            \n",
    "        err[i] = np.sqrt(int1 + int2)\n",
    "\n",
    "    return err"
   ]
  },
  {
   "cell_type": "code",
   "execution_count": null,
   "metadata": {},
   "outputs": [],
   "source": []
  },
  {
   "cell_type": "markdown",
   "metadata": {},
   "source": [
    "*e)*"
   ]
  },
  {
   "cell_type": "code",
   "execution_count": 55,
   "metadata": {},
   "outputs": [],
   "source": [
    "import numpy as np\n",
    "from scipy.sparse import csr_matrix\n",
    "K = lambda h, psi, eps: np.array([[eps/h + psi/2, -eps/h + psi/2], [-eps/h - psi/2, eps/h - psi/2]])\n",
    "\n",
    "def GlobalAssemblyOld(x,eps,psi,c,d):\n",
    "    M = len(x)\n",
    "    nnzmax = 4 * M\n",
    "    ii = np.ones(nnzmax, dtype=int)\n",
    "    jj = np.ones(nnzmax, dtype=int)\n",
    "    ss = np.zeros(nnzmax)\n",
    "    b = np.zeros(M)\n",
    "    count = 0\n",
    "    for i in range(M - 1):\n",
    "        h = x[i+1] - x[i]\n",
    "        b[i] += h/2\n",
    "        b[i+1] += h/2\n",
    "\n",
    "        Ki = K(h,psi,eps)\n",
    "        print(Ki)\n",
    "\n",
    "        ii[count:count + 4] = [i, i, i + 1, i + 1]\n",
    "        jj[count:count + 4] = [i, i + 1, i + 1, i]\n",
    "        ss[count:count + 4] = [\n",
    "        Ki[0, 0],\n",
    "        Ki[0, 1],\n",
    "        Ki[1, 1],\n",
    "        Ki[1, 0]\n",
    "        ]\n",
    "        count += 4\n",
    "    \n",
    "    A = csr_matrix((ss[:count], (ii[:count], jj[:count])), shape=(M, M))\n",
    "\n",
    "    # Boundary conditions\n",
    "    # b[0] = c\n",
    "    # b[1] -= A[0,1]*c\n",
    "\n",
    "    # A[0,0] = 1\n",
    "    # A[0,1] = 0\n",
    "    # A[1,0] = 0\n",
    "    \n",
    "    # b[M-1] = d\n",
    "    # b[M-2] -= A[M-1,M-2]*d\n",
    "\n",
    "    # A[M-1,M-1] = 1\n",
    "    # A[M-1,M-2] = 0\n",
    "    # A[M-2,M-1] = 0\n",
    "\n",
    "    return A, b"
   ]
  },
  {
   "cell_type": "code",
   "execution_count": 59,
   "metadata": {},
   "outputs": [
    {
     "name": "stdout",
     "output_type": "stream",
     "text": [
      "[[ 4.5 -3.5]\n",
      " [-4.5  3.5]]\n",
      "[[ 4.5 -3.5]\n",
      " [-4.5  3.5]]\n",
      "[[ 4.5 -3.5]\n",
      " [-4.5  3.5]]\n",
      "[[ 4.5 -3.5]\n",
      " [-4.5  3.5]]\n",
      "[[ 4.5 -3.5  0.   0.   0. ]\n",
      " [-4.5  8.  -3.5  0.   0. ]\n",
      " [ 0.  -4.5  8.  -3.5  0. ]\n",
      " [ 0.   0.  -4.5  8.  -3.5]\n",
      " [ 0.   0.   0.  -4.5  3.5]]\n"
     ]
    }
   ],
   "source": [
    "u = lambda x,epsinv,psi: 1/psi * (1+(np.exp(psi*epsinv)-1)*x - np.exp(x*psi*epsinv))/(np.exp(psi*epsinv)-1)\n",
    "\n",
    "A_Old,b_Old = GlobalAssemblyOld(x=np.linspace(0,1,5),eps=1,psi=1,c=0,d=0)\n",
    "print(A_Old.todense())\n"
   ]
  },
  {
   "cell_type": "markdown",
   "metadata": {},
   "source": [
    "# New version"
   ]
  },
  {
   "cell_type": "code",
   "execution_count": 69,
   "metadata": {},
   "outputs": [],
   "source": [
    "import numpy as np\n",
    "from scipy.sparse import csr_matrix\n",
    "K = lambda h, psi, eps: np.array([[eps/h + psi/2, -eps/h + psi/2], [-eps/h - psi/2, eps/h - psi/2]])\n",
    "\n",
    "def GlobalAssembly(VX,EToV,eps,psi,c,d):\n",
    "    M = len(VX)\n",
    "    nnzmax = 4 * M\n",
    "    ii = np.ones(nnzmax, dtype=int)\n",
    "    jj = np.ones(nnzmax, dtype=int)\n",
    "    ss = np.zeros(nnzmax)\n",
    "    b = np.zeros(M)\n",
    "    count = 0\n",
    "\n",
    "    for pair in EToV:\n",
    "        i = pair[0]\n",
    "        j = pair[1]\n",
    "\n",
    "        h = VX[j] - VX[i]\n",
    "        print(h)\n",
    "        b[i] += h/2\n",
    "        b[j] += h/2\n",
    "\n",
    "        Ki = K(h,psi,eps)\n",
    "        print(Ki)\n",
    "\n",
    "        ii[count:count + 4] = [i, i, j, j]\n",
    "        jj[count:count + 4] = [i, j, j, i]\n",
    "        ss[count:count + 4] = [\n",
    "        Ki[0, 0],\n",
    "        Ki[0, 1],\n",
    "        Ki[1, 1],\n",
    "        Ki[1, 0]\n",
    "        ]\n",
    "        count += 4\n",
    "    \n",
    "    A = csr_matrix((ss[:count], (ii[:count], jj[:count])), shape=(M, M))\n",
    "\n",
    "    # Boundary conditions\n",
    "    # b[0] = c\n",
    "    # b[1] -= A[0,1]*c\n",
    "\n",
    "    # A[0,0] = 1\n",
    "    # A[0,1] = 0\n",
    "    # A[1,0] = 0\n",
    "    \n",
    "    # b[M-1] = d\n",
    "    # b[M-2] -= A[M-1,M-2]*d\n",
    "\n",
    "    # A[M-1,M-1] = 1\n",
    "    # A[M-1,M-2] = 0\n",
    "    # A[M-2,M-1] = 0\n",
    "\n",
    "    return A, b"
   ]
  },
  {
   "cell_type": "code",
   "execution_count": 64,
   "metadata": {},
   "outputs": [
    {
     "name": "stdout",
     "output_type": "stream",
     "text": [
      "[[0 3]\n",
      " [2 4]\n",
      " [3 2]\n",
      " [4 1]]\n",
      "[0.   1.   0.5  0.25 0.75]\n"
     ]
    }
   ],
   "source": [
    "EToV = np.array([[0,3],[2,4],[3,2],[4,1]])\n",
    "VX = np.array([0,1,0.5,0.25,0.75])\n",
    "print(EToV)\n",
    "print(VX)\n"
   ]
  },
  {
   "cell_type": "code",
   "execution_count": 70,
   "metadata": {},
   "outputs": [
    {
     "name": "stdout",
     "output_type": "stream",
     "text": [
      "0.25\n",
      "[[ 4.5 -3.5]\n",
      " [-4.5  3.5]]\n",
      "0.25\n",
      "[[ 4.5 -3.5]\n",
      " [-4.5  3.5]]\n",
      "0.25\n",
      "[[ 4.5 -3.5]\n",
      " [-4.5  3.5]]\n",
      "0.25\n",
      "[[ 4.5 -3.5]\n",
      " [-4.5  3.5]]\n",
      "[[ 4.5  0.   0.  -3.5  0. ]\n",
      " [ 0.   3.5  0.   0.  -4.5]\n",
      " [ 0.   0.   8.  -4.5 -3.5]\n",
      " [-4.5  0.  -3.5  8.   0. ]\n",
      " [ 0.  -3.5 -4.5  0.   8. ]] [0.125 0.125 0.25  0.25  0.25 ]\n",
      "[[ 4.5 -3.5  0.   0.   0. ]\n",
      " [-4.5  8.  -3.5  0.   0. ]\n",
      " [ 0.  -4.5  8.  -3.5  0. ]\n",
      " [ 0.   0.  -4.5  8.  -3.5]\n",
      " [ 0.   0.   0.  -4.5  3.5]] [0.125 0.25  0.25  0.25  0.125]\n"
     ]
    }
   ],
   "source": [
    "u = lambda x,epsinv,psi: 1/psi * (1+(np.exp(psi*epsinv)-1)*x - np.exp(x*psi*epsinv))/(np.exp(psi*epsinv)-1)\n",
    "x = np.linspace(0,1,5)\n",
    "\n",
    "A,b = GlobalAssembly(VX=VX,EToV=EToV,eps=1,psi=1,c=0,d=0)\n",
    "\n",
    "print(A.todense(),b)\n",
    "print(A_Old.todense(),b_Old)"
   ]
  },
  {
   "cell_type": "code",
   "execution_count": 71,
   "metadata": {},
   "outputs": [
    {
     "name": "stdout",
     "output_type": "stream",
     "text": [
      "Old\n",
      "[[ 4.5 -3.5]\n",
      " [-4.5  3.5]]\n",
      "[[ 4.5 -3.5]\n",
      " [-4.5  3.5]]\n",
      "[[ 4.5 -3.5]\n",
      " [-4.5  3.5]]\n",
      "[[ 4.5 -3.5]\n",
      " [-4.5  3.5]]\n",
      "New\n",
      "0.25\n",
      "[[ 4.5 -3.5]\n",
      " [-4.5  3.5]]\n",
      "0.25\n",
      "[[ 4.5 -3.5]\n",
      " [-4.5  3.5]]\n",
      "0.25\n",
      "[[ 4.5 -3.5]\n",
      " [-4.5  3.5]]\n",
      "0.25\n",
      "[[ 4.5 -3.5]\n",
      " [-4.5  3.5]]\n"
     ]
    },
    {
     "data": {
      "text/plain": [
       "(<5x5 sparse matrix of type '<class 'numpy.float64'>'\n",
       " \twith 13 stored elements in Compressed Sparse Row format>,\n",
       " array([0.125, 0.125, 0.25 , 0.25 , 0.25 ]))"
      ]
     },
     "execution_count": 71,
     "metadata": {},
     "output_type": "execute_result"
    }
   ],
   "source": [
    "print('Old')\n",
    "GlobalAssemblyOld(x=np.linspace(0,1,5),eps=1,psi=1,c=0,d=0)\n",
    "print('New')\n",
    "GlobalAssembly(VX=VX,EToV=EToV,eps=1,psi=1,c=0,d=0)"
   ]
  }
 ],
 "metadata": {
  "kernelspec": {
   "display_name": "FEM",
   "language": "python",
   "name": "python3"
  },
  "language_info": {
   "codemirror_mode": {
    "name": "ipython",
    "version": 3
   },
   "file_extension": ".py",
   "mimetype": "text/x-python",
   "name": "python",
   "nbconvert_exporter": "python",
   "pygments_lexer": "ipython3",
   "version": "3.12.0"
  }
 },
 "nbformat": 4,
 "nbformat_minor": 2
}
