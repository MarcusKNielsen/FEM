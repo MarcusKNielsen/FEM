{
 "cells": [
  {
   "cell_type": "markdown",
   "metadata": {},
   "source": [
    "# Exercise 1.1"
   ]
  },
  {
   "cell_type": "markdown",
   "metadata": {},
   "source": [
    "We wish to compute\n",
    "$$k_{r,s}^{(i)} = \\int_{x_i}^{x_{i+1}}(N_r^{(i)})$$\n",
    "\n",
    "    ..."
   ]
  },
  {
   "cell_type": "markdown",
   "metadata": {},
   "source": [
    "We have\n",
    "$$ k_{1,1} = \\int_{x_i}^{x_{i+1}} \\frac{1}{h_i^2} + \\left(1 - \\frac{x-x_i}{h_i}\\right)^2\\,dx $$\n",
    "and by substitution $y=\\frac{x-x_{i}}{h_i}$ we obtain\n",
    "\n",
    "$$ k_{1,1} = \\int_{0}^{1} \\frac{1}{h_i} + h_i\\left(1 - y\\right)^2\\,dy $$\n",
    "\n",
    "and using $\\left(-\\frac{1}{3}(1-y)^3\\right)' = (1-y)^2$ we obtain\n",
    "\n",
    "$$ k_{1,1} = \\left[ \\frac{y}{h_i} \\right]_{0}^{1} + \\left[ -\\frac{h_i}{3}(1-y)^3 \\right]_{0}^{1} = \\frac{1}{h_i} + \\frac{h_i}{3}$$\n"
   ]
  },
  {
   "cell_type": "markdown",
   "metadata": {},
   "source": [
    "Next\n",
    "$$ k_{2,2} = \\int_{x_i}^{x_{i+1}} \\frac{1}{h_i^2} + \\left(\\frac{x-x_i}{h_i}\\right)^2\\,dx $$\n",
    "and substituting $y=\\frac{x-x_{i}}{h_i}$ again we obtain\n",
    "\n",
    "$$ k_{2,2} = \\int_{0}^{1} \\frac{1}{h_i} + h_i y^2\\,dy $$\n",
    "\n",
    "and thus\n",
    "\n",
    "$$ k_{2,2} = \\left[ \\frac{y}{h_i} \\right]_{0}^{1} + \\left[\\frac{h_i}{3}y^3 \\right]_{0}^{1} = \\frac{1}{h_i} + \\frac{h_i}{3}$$\n"
   ]
  },
  {
   "cell_type": "markdown",
   "metadata": {},
   "source": [
    "And finally\n",
    "$$ k_{1,2} = \\int_{x_i}^{x_{i+1}} -\\frac{1}{h_i^2} + \\left(1-\\frac{x-x_i}{h_i}\\right)\\left(\\frac{x-x_i}{h_i}\\right)\\,dx $$\n",
    "\n",
    "so substitution and previously we have\n",
    "\n",
    "$$ k_{1,2} = \\int_{0}^{1} -\\frac{1}{h_i} + h_i\\left(y-y^2\\right)\\,dy $$\n",
    "\n",
    "and thus\n",
    "\n",
    "$$ k_{1,2} = \\left[ -\\frac{y}{h_i} \\right]_{0}^{1} + h_i\\left[\\frac{1}{2}y^2 - \\frac{1}{3}y^3 \\right]_{0}^{1} = -\\frac{1}{h_i} + \\frac{h_i}{6}$$\n"
   ]
  },
  {
   "attachments": {},
   "cell_type": "markdown",
   "metadata": {},
   "source": [
    "It follows by equation 1.21 in the notes that\n",
    "\\begin{align*}\n",
    "\\hat{u}_1 &= c = 1 \\\\\n",
    "\\hat{u}_3 &= d = e^2\n",
    "\\end{align*}\n",
    "and from equation 1.22 we get\n",
    "\\begin{align*}\n",
    "\\hat{u}_2 = \\frac{-(a_{2,1}\\hat{u}_1 + a_{2,3} \\hat{u}_3)}{a_{2,2}}\n",
    "\\end{align*}\n",
    "We find a coefficients by equation 1.28\n",
    "\\begin{align*}\n",
    "a_{2,1} &= k_{2,1}^{(1)} = \\frac{-1}{h_1} + \\frac{h_1}{6}\\\\[10pt]\n",
    "a_{2,3} &= k_{1,2}^{(2)} = \\frac{-1}{h_2} + \\frac{h_2}{6}\\\\[10pt]\n",
    "a_{2,2} &= k_{2,2}^{(1)} + k_{1,1}^{(2)} = \\frac{1}{h_1} + \\frac{h_1}{3} + \\frac{1}{h_2} + \\frac{h_2}{3} = \\frac{1}{h_1} + \\frac{1}{h_2} + \\frac{h_1 + h_2}{3}\n",
    "\\end{align*}\n",
    "In the non-uniform case we get\n",
    "\\begin{align*}\n",
    "\\hat{u}_2 = - \\frac{ \\left(\\frac{-1}{h_1} + \\frac{h_1}{6} \\right) + \\left( \\frac{-1}{h_2} + \\frac{h_2}{6} \\right) e^2 }{\\frac{1}{h_1} + \\frac{1}{h_2} + \\frac{h_1 + h_2}{3}}\n",
    "\\end{align*}\n",
    "in the uniform case $h_1=h_2=h$ this reduces to\n",
    "\\begin{align*}\n",
    "\\hat{u}_2 = - \\left(\\frac{-1}{h} + \\frac{h}{6} \\right) \\frac{1+e^2}{ \\frac{2}{h} + \\frac{2h}{3} }\n",
    "\\end{align*}"
   ]
  },
  {
   "cell_type": "code",
   "execution_count": 1,
   "metadata": {},
   "outputs": [],
   "source": [
    "import numpy as np"
   ]
  },
  {
   "cell_type": "code",
   "execution_count": 2,
   "metadata": {},
   "outputs": [
    {
     "data": {
      "text/plain": [
       "5"
      ]
     },
     "execution_count": 2,
     "metadata": {},
     "output_type": "execute_result"
    }
   ],
   "source": [
    "2 + 3"
   ]
  }
 ],
 "metadata": {
  "kernelspec": {
   "display_name": "FEM",
   "language": "python",
   "name": "python3"
  },
  "language_info": {
   "codemirror_mode": {
    "name": "ipython",
    "version": 3
   },
   "file_extension": ".py",
   "mimetype": "text/x-python",
   "name": "python",
   "nbconvert_exporter": "python",
   "pygments_lexer": "ipython3",
   "version": "3.12.0"
  }
 },
 "nbformat": 4,
 "nbformat_minor": 2
}
